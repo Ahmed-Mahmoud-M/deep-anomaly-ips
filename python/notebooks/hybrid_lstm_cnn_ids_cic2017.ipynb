{
 "cells": [
  {
   "cell_type": "code",
   "execution_count": 3,
   "id": "d411dc80-9ebe-4377-959f-00a8f7300bdd",
   "metadata": {},
   "outputs": [],
   "source": [
    "import numpy as np\n",
    "import pandas as pd\n",
    "\n",
    "\n",
    "df = pd.read_csv('../data/processed/processed_data.csv')"
   ]
  },
  {
   "cell_type": "code",
   "execution_count": 4,
   "id": "1ef9a576-f343-4e80-bad3-a68fdf87570f",
   "metadata": {},
   "outputs": [
    {
     "data": {
      "text/plain": [
       "(2520798, 47)"
      ]
     },
     "execution_count": 4,
     "metadata": {},
     "output_type": "execute_result"
    }
   ],
   "source": [
    "df.shape\n"
   ]
  },
  {
   "cell_type": "code",
   "execution_count": 24,
   "id": "87620c5e-769a-4950-903a-60abff615980",
   "metadata": {},
   "outputs": [],
   "source": [
    "from sklearn.model_selection import train_test_split\n",
    "from sklearn.preprocessing import LabelEncoder\n",
    "\n",
    "\n",
    "\n",
    "X = df.drop('Label', axis=1)  #\n",
    "y = df['Label']\n",
    "\n",
    "# Encode labels\n",
    "\n",
    "encode_labels = LabelEncoder()\n",
    "y_encoded = encode_labels.fit_transform(y)\n",
    "\n",
    "\n",
    "X_train,X_test,y_train,y_test = train_test_split(\n",
    "    X,\n",
    "    y_encoded,\n",
    "    test_size = 0.15,  # 15 % test\n",
    "    random_state = 42,\n",
    "    stratify=y_encoded\n",
    ")\n",
    "\n",
    "\n",
    "X_train.to_csv('split_data/X_train.csv',index=False)\n",
    "pd.DataFrame(y_train,columns=['Label']).to_csv('split_data/y_train.csv')\n",
    "X_test.to_csv('split_data/X_test.csv',index=False)\n",
    "pd.DataFrame(y_test,columns=['Label']).to_csv('split_data/y_test.csv')\n"
   ]
  },
  {
   "cell_type": "code",
   "execution_count": 16,
   "id": "72923cd2-4c45-4eeb-8ce6-d584ea9cb964",
   "metadata": {},
   "outputs": [
    {
     "data": {
      "text/plain": [
       "['split_data/label_encoder/label_encoder.pkl']"
      ]
     },
     "execution_count": 16,
     "metadata": {},
     "output_type": "execute_result"
    }
   ],
   "source": [
    "# savel label encoder \n",
    "import joblib\n",
    "joblib.dump(encode_labels,'split_data/label_encoder/label_encoder.pkl')"
   ]
  },
  {
   "cell_type": "code",
   "execution_count": 17,
   "id": "3aa10483-3645-4c24-a969-867c04320c35",
   "metadata": {},
   "outputs": [],
   "source": [
    "# load the data\n",
    "X_train = pd.read_csv('split_data/X_train.csv')\n",
    "y_train = pd.read_csv('split_data/y_train.csv')\n",
    "X_test = pd.read_csv('split_data/X_test.csv')\n",
    "y_test = pd.read_csv('split_data/y_test')"
   ]
  },
  {
   "cell_type": "code",
   "execution_count": 23,
   "id": "05ad0de8-39ca-451c-b463-fe5be96d1683",
   "metadata": {},
   "outputs": [],
   "source": [
    "from sklearn.preprocessing import StandardScaler\n",
    "import numpy as np\n",
    "\n",
    "# Load label encoder\n",
    "encode_labels = joblib.load('split_data/label_encoder/label_encoder.pkl')\n",
    "\n",
    "# Normalize features \n",
    "scaler = StandardScaler()\n",
    "X_train_scaled = scaler.fit_transform(X_train)\n",
    "X_test_scaled = scaler.transform(X_test)\n",
    "\n",
    "X_train_reshaped = X_train_scaled.reshape(X_train_scaled.shape[0], 1, X_train_scaled.shape[1])\n",
    "X_test_reshaped = X_test_scaled.reshape(X_test_scaled.shape[0], 1, X_test_scaled.shape[1])\n",
    "\n",
    "\n",
    "num_classes = len(encode_labels.classes_)\n",
    "y_train_onehot = np.eye(num_classes)[y_train['Label']]\n",
    "y_test_onehot = np.eye(num_classes)[y_test['Label']]"
   ]
  },
  {
   "cell_type": "code",
   "execution_count": null,
   "id": "149578be-3f77-4f1e-b707-a2545d2601ed",
   "metadata": {},
   "outputs": [],
   "source": []
  }
 ],
 "metadata": {
  "kernelspec": {
   "display_name": "my_env",
   "language": "python",
   "name": "myenv"
  },
  "language_info": {
   "codemirror_mode": {
    "name": "ipython",
    "version": 3
   },
   "file_extension": ".py",
   "mimetype": "text/x-python",
   "name": "python",
   "nbconvert_exporter": "python",
   "pygments_lexer": "ipython3",
   "version": "3.13.2"
  }
 },
 "nbformat": 4,
 "nbformat_minor": 5
}
