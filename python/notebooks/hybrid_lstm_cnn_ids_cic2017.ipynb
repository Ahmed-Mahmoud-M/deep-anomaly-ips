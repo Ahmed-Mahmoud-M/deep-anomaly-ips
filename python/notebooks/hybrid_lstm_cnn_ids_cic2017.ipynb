{
 "cells": [
  {
   "cell_type": "code",
   "execution_count": 2,
   "id": "d411dc80-9ebe-4377-959f-00a8f7300bdd",
   "metadata": {},
   "outputs": [],
   "source": [
    "import numpy as np\n",
    "import pandas as pd\n",
    "\n",
    "\n",
    "#df = pd.read_csv('../data/processed/processed_data.csv')"
   ]
  },
  {
   "cell_type": "code",
   "execution_count": 4,
   "id": "1ef9a576-f343-4e80-bad3-a68fdf87570f",
   "metadata": {},
   "outputs": [
    {
     "data": {
      "text/plain": [
       "(2520798, 47)"
      ]
     },
     "execution_count": 4,
     "metadata": {},
     "output_type": "execute_result"
    }
   ],
   "source": [
    "df.shape\n"
   ]
  },
  {
   "cell_type": "code",
   "execution_count": 24,
   "id": "87620c5e-769a-4950-903a-60abff615980",
   "metadata": {},
   "outputs": [],
   "source": [
    "from sklearn.model_selection import train_test_split\n",
    "from sklearn.preprocessing import LabelEncoder\n",
    "\n",
    "\n",
    "\n",
    "X = df.drop('Label', axis=1)  #\n",
    "y = df['Label']\n",
    "\n",
    "# Encode labels\n",
    "\n",
    "encode_labels = LabelEncoder()\n",
    "y_encoded = encode_labels.fit_transform(y)\n",
    "\n",
    "\n",
    "X_train,X_test,y_train,y_test = train_test_split(\n",
    "    X,\n",
    "    y_encoded,\n",
    "    test_size = 0.15,  # 15 % test\n",
    "    random_state = 42,\n",
    "    stratify=y_encoded\n",
    ")\n",
    "\n",
    "\n",
    "X_train.to_csv('split_data/X_train.csv',index=False)\n",
    "pd.DataFrame(y_train,columns=['Label']).to_csv('split_data/y_train.csv')\n",
    "X_test.to_csv('split_data/X_test.csv',index=False)\n",
    "pd.DataFrame(y_test,columns=['Label']).to_csv('split_data/y_test.csv')\n"
   ]
  },
  {
   "cell_type": "code",
   "execution_count": 16,
   "id": "72923cd2-4c45-4eeb-8ce6-d584ea9cb964",
   "metadata": {},
   "outputs": [
    {
     "data": {
      "text/plain": [
       "['split_data/label_encoder/label_encoder.pkl']"
      ]
     },
     "execution_count": 16,
     "metadata": {},
     "output_type": "execute_result"
    }
   ],
   "source": [
    "# savel label encoder \n",
    "import joblib\n",
    "joblib.dump(encode_labels,'split_data/label_encoder/label_encoder.pkl')"
   ]
  },
  {
   "cell_type": "code",
   "execution_count": 3,
   "id": "3aa10483-3645-4c24-a969-867c04320c35",
   "metadata": {},
   "outputs": [],
   "source": [
    "# load the data\n",
    "X_train = pd.read_csv('split_data/X_train.csv')\n",
    "y_train = pd.read_csv('split_data/y_train.csv')\n",
    "X_test = pd.read_csv('split_data/X_test.csv')\n",
    "y_test = pd.read_csv('split_data/y_test')"
   ]
  },
  {
   "cell_type": "code",
   "execution_count": 5,
   "id": "05ad0de8-39ca-451c-b463-fe5be96d1683",
   "metadata": {},
   "outputs": [],
   "source": [
    "from sklearn.preprocessing import StandardScaler\n",
    "import numpy as np\n",
    "import joblib\n",
    "\n",
    "# Load label encoder\n",
    "encode_labels = joblib.load('split_data/label_encoder/label_encoder.pkl')\n",
    "\n",
    "# Normalize features \n",
    "scaler = StandardScaler()\n",
    "X_train_scaled = scaler.fit_transform(X_train)\n",
    "X_test_scaled = scaler.transform(X_test)\n",
    "\n",
    "X_train_reshaped = X_train_scaled.reshape(X_train_scaled.shape[0], 1, X_train_scaled.shape[1])\n",
    "X_test_reshaped = X_test_scaled.reshape(X_test_scaled.shape[0], 1, X_test_scaled.shape[1])\n",
    "\n",
    "\n",
    "num_classes = len(encode_labels.classes_)\n",
    "y_train_onehot = np.eye(num_classes)[y_train['Label']]\n",
    "y_test_onehot = np.eye(num_classes)[y_test['Label']]"
   ]
  },
  {
   "cell_type": "code",
   "execution_count": 6,
   "id": "149578be-3f77-4f1e-b707-a2545d2601ed",
   "metadata": {},
   "outputs": [
    {
     "data": {
      "text/plain": [
       "Index(['Destination Port', 'Total Length of Fwd Packets',\n",
       "       'Fwd Packet Length Min', 'Bwd Packet Length Max',\n",
       "       'Bwd Packet Length Min', 'Bwd Packet Length Mean',\n",
       "       'Bwd Packet Length Std', 'Flow Bytes/s', 'Flow Packets/s',\n",
       "       'Flow IAT Mean', 'Flow IAT Std', 'Flow IAT Min', 'Fwd IAT Mean',\n",
       "       'Fwd IAT Std', 'Fwd IAT Min', 'Bwd IAT Total', 'Bwd IAT Mean',\n",
       "       'Bwd IAT Max', 'Fwd PSH Flags', 'Fwd Header Length',\n",
       "       'Bwd Header Length', 'Fwd Packets/s', 'Bwd Packets/s',\n",
       "       'Min Packet Length', 'Max Packet Length', 'Packet Length Mean',\n",
       "       'Packet Length Std', 'Packet Length Variance', 'FIN Flag Count',\n",
       "       'PSH Flag Count', 'ACK Flag Count', 'Down/Up Ratio',\n",
       "       'Average Packet Size', 'Avg Bwd Segment Size', 'Subflow Fwd Bytes',\n",
       "       'Init_Win_bytes_forward', 'Init_Win_bytes_backward', 'act_data_pkt_fwd',\n",
       "       'min_seg_size_forward', 'Idle Std', 'Fwd Packet Length_Profile',\n",
       "       'Total Packets and Subflow Bwd Profile',\n",
       "       'Fwd Flow IAT Max and Idle Profile', 'Flow Duration Fwd IAT Total',\n",
       "       'Fwd Avg Segement and Packet Length Mean profile', 'Idle_Profile'],\n",
       "      dtype='object')"
      ]
     },
     "execution_count": 6,
     "metadata": {},
     "output_type": "execute_result"
    }
   ],
   "source": [
    "X_train.columns"
   ]
  },
  {
   "cell_type": "code",
   "execution_count": 7,
   "id": "be5f0a5f-2a49-4f5c-904d-f20d2fd6829b",
   "metadata": {},
   "outputs": [
    {
     "data": {
      "text/plain": [
       "(2142678, 46)"
      ]
     },
     "execution_count": 7,
     "metadata": {},
     "output_type": "execute_result"
    }
   ],
   "source": [
    "X_train.shape"
   ]
  },
  {
   "cell_type": "code",
   "execution_count": null,
   "id": "b1d7bdd5-8f4f-465f-b3d0-10652e08119a",
   "metadata": {},
   "outputs": [],
   "source": []
  }
 ],
 "metadata": {
  "kernelspec": {
   "display_name": "my_env",
   "language": "python",
   "name": "myenv"
  },
  "language_info": {
   "codemirror_mode": {
    "name": "ipython",
    "version": 3
   },
   "file_extension": ".py",
   "mimetype": "text/x-python",
   "name": "python",
   "nbconvert_exporter": "python",
   "pygments_lexer": "ipython3",
   "version": "3.13.2"
  }
 },
 "nbformat": 4,
 "nbformat_minor": 5
}
